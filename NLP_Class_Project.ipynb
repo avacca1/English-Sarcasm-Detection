{
 "cells": [
  {
   "cell_type": "code",
   "execution_count": 1,
   "metadata": {
    "id": "FfG3xQvgyHx2"
   },
   "outputs": [],
   "source": [
    "import torch, torch.nn as nn, numpy as np\n",
    "from tqdm.notebook import tqdm\n",
    "from sklearn.metrics import f1_score\n",
    "from transformers import AutoTokenizer, AutoModel\n",
    "import pandas as pd\n",
    "import emoji\n",
    "import os"
   ]
  },
  {
   "cell_type": "markdown",
   "metadata": {},
   "source": [
    "## Data Preprocessing\n",
    "\n",
    "In this section, we load and process data using the `SarcasmDataset` class. To create a `SarcasmDataset`, input the path of the data csv file and the tokenizer. Later use pytorch to crate a dataloader for the dataset (in the main script)."
   ]
  },
  {
   "cell_type": "code",
   "execution_count": 3,
   "metadata": {},
   "outputs": [],
   "source": [
    "class SarcasmDataset(torch.utils.data.Dataset):\n",
    "    def __init__(self, data_path, tokenizer, max_len, target_col_names=['tweet', 'sarcastic']):\n",
    "        ''' \n",
    "        data_path: path to csv file\n",
    "        tokenizer: tokenizer to use, likely load from AutoTokenizer\n",
    "        max_len: max length of input sequence\n",
    "        '''\n",
    "        self.data_path = data_path\n",
    "        self.tokenizer = tokenizer\n",
    "        self.max_len = max_len\n",
    "        self.data = self.load_data(target_col_names)\n",
    "\n",
    "    def load_data(self, target_col_names):\n",
    "        # use pandas to read csv file\n",
    "        df = pd.read_csv(self.data_path)\n",
    "        # only need certain columns\n",
    "        df = df[target_col_names]\n",
    "        # replace nan with empty string\n",
    "        df = df.fillna('')\n",
    "        # convert to np array\n",
    "        data = df.values\n",
    "        # process text\n",
    "        data = [[self.process_tweet(text), label] for text, label in data]\n",
    "        return data\n",
    "    \n",
    "    def process_tweet(self, text):\n",
    "        # convert emoji to text\n",
    "        text = emoji.demojize(text)\n",
    "        # if contain user name (word start with @), replace with @USER\n",
    "        text = ' '.join(['@USER' if word.startswith('@') else word for word in text.split()])\n",
    "        # if contian url, replace with HTTPURL\n",
    "        text = ' '.join(['HTTPURL' if word.startswith('http') else word for word in text.split()])\n",
    "        return text\n",
    "\n",
    "    def __len__(self):\n",
    "        return len(self.data)\n",
    "\n",
    "    def __getitem__(self, idx):\n",
    "        '''\n",
    "        Convert text to tokens, add special tokens, and create attention mask\n",
    "        return: input_ids, attention_mask, label\n",
    "        '''\n",
    "        text, label = self.data[idx]\n",
    "        # tokenize text\n",
    "        tokens = self.tokenizer(\n",
    "            text,\n",
    "            max_length=self.max_len,\n",
    "            truncation=True,\n",
    "            padding='max_length',\n",
    "            add_special_tokens=True\n",
    "        )\n",
    "        # get input ids: numerical representation of tokens, used as input to model\n",
    "        input_ids = tokens['input_ids']\n",
    "        # get attention mask: binary mask to indicate which tokens should be attended to, used as input to model\n",
    "        attention_mask = tokens['attention_mask']\n",
    "        # convert to tensor and return\n",
    "        return torch.tensor(input_ids), torch.tensor(attention_mask), torch.tensor(label)"
   ]
  },
  {
   "attachments": {},
   "cell_type": "markdown",
   "metadata": {},
   "source": [
    "## Model\n",
    "\n",
    "In this section, we define the model. We will use the ensemble method, which would use multiple models and combine their outputs to get the final prediction.\n",
    "\n",
    "The pretrained models are defined in `PretrainedModelPlus` class, which can take in any pretrained model and add a hidden layer and output layer on top of it. \n",
    "\n",
    "### Ensembling\n",
    "\n",
    "The models are trained separately and the outputs are combined using combined average probability. This is implemented in the predict function.\n"
   ]
  },
  {
   "cell_type": "code",
   "execution_count": 4,
   "metadata": {},
   "outputs": [],
   "source": [
    "class PretrainedModelPlus(nn.Module):\n",
    "    def __init__(self, pretrained_model, output_size, linear_layer_size):\n",
    "        super(PretrainedModelPlus, self).__init__()\n",
    "        self.pretrained_model = pretrained_model\n",
    "        # Add linear layer on top of the pretrained model\n",
    "        self.linear = nn.Linear(self.pretrained_model.config.hidden_size, linear_layer_size)\n",
    "        self.linear_final = nn.Linear(linear_layer_size, output_size)\n",
    "\n",
    "        # Activation function\n",
    "        self.activation = nn.ReLU()\n",
    "        # Add a sigmoid layer to get the probabilities\n",
    "        self.sigmoid = nn.Sigmoid()\n",
    "\n",
    "        # Define the loss function\n",
    "        self.loss = nn.BCELoss()\n",
    "\n",
    "\n",
    "    def forward(self, x, attention_mask, labels):\n",
    "        pretrained_outputs = self.pretrained_model(input_ids=x, attention_mask=attention_mask, \n",
    "                                                   return_dict=True, output_hidden_states=True)\n",
    "\n",
    "        # Get all hidden states, size: (num_hidden_layers, batch_size, sequence_length, pretrained_hidden_size)\n",
    "        hidden_states = torch.stack(pretrained_outputs[\"hidden_states\"])\n",
    "        # Sum the last 4 layers, size: (batch_size, sequence_length, pretrained_hidden_size)\n",
    "        summed_last_4_layers = torch.sum(hidden_states[-4:], dim=0)\n",
    "        # Use the first token as the output, size: (batch_size, pretrained_hidden_size)\n",
    "        first_token = summed_last_4_layers[:, 0, :]\n",
    "\n",
    "        # linear layer with activation\n",
    "        linear_outputs = self.linear(first_token)\n",
    "        activation_outputs = self.activation(linear_outputs)\n",
    "\n",
    "        # get output of size 1 for classification\n",
    "        output = self.linear_final(activation_outputs)\n",
    "        # turn output into probabilities\n",
    "        probs = self.sigmoid(output)\n",
    "        # calculate loss\n",
    "        loss = self.loss(probs.view(-1), labels.float())\n",
    "        return loss, probs"
   ]
  },
  {
   "cell_type": "code",
   "execution_count": 22,
   "metadata": {},
   "outputs": [],
   "source": [
    "def train(model, dataloader, epochs=3, learning_rate=1e-5):\n",
    "    ''' Train a model\n",
    "    model: model to train\n",
    "    dataloader: data loader to use\n",
    "    epochs: number of epochs to train\n",
    "    learning_rate: learning rate to use\n",
    "    return: trained model\n",
    "    '''\n",
    "    optimizer = torch.optim.AdamW(model.parameters(), lr=learning_rate)\n",
    "    for epoch in range(epochs):\n",
    "        # keep track of tp, fp, tn, fn\n",
    "        num_tp = 0\n",
    "        num_fp = 0\n",
    "        num_tn = 0\n",
    "        num_fn = 0\n",
    "\n",
    "        model.train()\n",
    "        for input_ids, attention_mask, labels in tqdm(dataloader):\n",
    "            optimizer.zero_grad()\n",
    "            loss, probs = model(input_ids, attention_mask, labels)\n",
    "            loss.backward()\n",
    "            optimizer.step()\n",
    "\n",
    "            # get predictions from probabilities\n",
    "            preds = torch.round(probs)\n",
    "            # turn into 1d tensor\n",
    "            preds = preds.squeeze(1)\n",
    "            # loop through this batch of predictions, and update tp, fp, tn, fn\n",
    "            for p, l in zip(preds, labels):\n",
    "                num_tp += int(p == 1 and l == 1)\n",
    "                num_fp += int(p == 1 and l == 0)\n",
    "                num_tn += int(p == 0 and l == 0)\n",
    "                num_fn += int(p == 0 and l == 1)\n",
    "\n",
    "        # calculate accuracy, precision, recall, f1\n",
    "        accuracy = (num_tp + num_tn) / (num_tp + num_fp + num_tn + num_fn)\n",
    "        precision = num_tp / (num_tp + num_fp)\n",
    "        recall = num_tp / (num_tp + num_fn)\n",
    "        f1 = 2 * precision * recall / (precision + recall)\n",
    "\n",
    "        # print out stats\n",
    "        print(f'Epoch: {epoch + 1}/{epochs} | Loss: {loss.item():.4f} | Accuracy: {accuracy:.4f} | F1: {f1:.4f} | Precision: {precision:.4f} | Recall: {recall:.4f}')\n",
    "    return model"
   ]
  },
  {
   "cell_type": "code",
   "execution_count": 6,
   "metadata": {},
   "outputs": [],
   "source": [
    "def predict(models, data_loaders):\n",
    "    ''' Combine the predictions of models\n",
    "    models: models to use\n",
    "    data_loaders: data loaders to use\n",
    "    return: list of predictions\n",
    "    '''\n",
    "    all_models_probs = [] # list of prob by all models\n",
    "\n",
    "    for data_loader, model in zip(data_loaders, models):\n",
    "        probs = [] # probs for each tweet predicted by one model\n",
    "        for input_ids, attention_mask, labels in tqdm(data_loader):\n",
    "            _, prob = model(input_ids, attention_mask, labels)\n",
    "            prob = prob.detach().numpy()[0][0]\n",
    "            probs.append(prob)\n",
    "        all_models_probs.append(probs)\n",
    "\n",
    "    # average the probs\n",
    "    ensemble_probs = np.array(all_models_probs).mean(axis=0)\n",
    "    # set threshold to 0.5, convert to 0 or 1\n",
    "    preds = [1 if prob > 0.5 else 0 for prob in ensemble_probs]\n",
    "    return preds"
   ]
  },
  {
   "cell_type": "code",
   "execution_count": 7,
   "metadata": {},
   "outputs": [],
   "source": [
    "def generate_pred_from_test_file(models, model_names, test_file, output_file=\"output.csv\"):\n",
    "    ''' Generate predictions from a file\n",
    "    models: list of pretrained models\n",
    "    model_names: list of names of models to use\n",
    "    test_file: file to use for testing\n",
    "    output_file: file to save the predictions\n",
    "    '''\n",
    "    # Load the test file and create a data loader\n",
    "    tokenizers = [AutoTokenizer.from_pretrained(model_name) for model_name in model_names]\n",
    "    test_datasets = [SarcasmDataset(test_file, tokenizer, max_len=128, target_col_names=['text', 'sarcastic']) for tokenizer in tokenizers]\n",
    "    test_dataloaders = [torch.utils.data.DataLoader(test_dataset, batch_size=1, shuffle=False) for test_dataset in test_datasets]\n",
    "\n",
    "    # Generate predictions\n",
    "    preds = predict(models, test_dataloaders)\n",
    "\n",
    "    # Use pandas to save the predictions into a csv file\n",
    "    df = pd.read_csv(test_file)\n",
    "    df['sarcastic'] = preds\n",
    "    df = df[['text', 'sarcastic']]\n",
    "    df.to_csv(output_file, index=False)\n"
   ]
  },
  {
   "cell_type": "markdown",
   "metadata": {},
   "source": [
    "## Evaluation Matrics\n",
    "\n",
    "We use the f1 score as the evaluation matrics."
   ]
  },
  {
   "cell_type": "code",
   "execution_count": 8,
   "metadata": {
    "id": "5fJMx7En68GD"
   },
   "outputs": [],
   "source": [
    "def evaluate_f1(test_file, model_generated_file):\n",
    "  '''\n",
    "  Inputs a test file and file generated by the model and returns the f1 score using f1_score from sklearn.metrics\n",
    "  :param test_file: csv of shape(num_samples, num_classifications)\n",
    "  :param model_generated_file: csv of shape(num_samples, num_classifications)\n",
    "  :return: f1_score of test_file and model_generated_file of shape(1)\n",
    "  '''\n",
    "  # load file into pandas dataframe\n",
    "  df1 = pd.read_csv(test_file)\n",
    "  df2 = pd.read_csv(model_generated_file)\n",
    "  # get the sarcastic column as a numpy array\n",
    "  arr1 = df1['sarcastic'].to_numpy()\n",
    "  arr2 = df2['sarcastic'].to_numpy()\n",
    "\n",
    "  return f1_score(arr1, arr2)"
   ]
  },
  {
   "attachments": {},
   "cell_type": "markdown",
   "metadata": {},
   "source": [
    "## Main Script\n",
    "\n",
    "**Instructions for running the main script:**\n",
    "\n",
    "1. Download the data from [here](https://github.com/iabufarha/iSarcasmEval).\n",
    "\n",
    "2. Create the dataset and dataloader for each of the models.\n",
    "\n",
    "3. Initialize the three models.\n",
    "\n",
    "4. a. Train the three models OR <br>\n",
    "   b. Load the three previously trained and continue to fine tune models.\n",
    "\n",
    "4. Predict and evaluate f1 score on test set for each individual model.\n",
    "\n",
    "5. Predict and evaluate f1 score on test set for ensemble of models.\n",
    "\n",
    "\n"
   ]
  },
  {
   "cell_type": "code",
   "execution_count": 14,
   "metadata": {},
   "outputs": [],
   "source": [
    "# Create dataset #1\n",
    "dataset_bertweet = SarcasmDataset(data_path='iSarcasmEval/train/train.En.csv',\n",
    "                                   tokenizer=AutoTokenizer.from_pretrained('finiteautomata/bertweet-base-sentiment-analysis'),\n",
    "                                   max_len=128)\n",
    "# Create data loader #1\n",
    "dataloader_bertweet = torch.utils.data.DataLoader(dataset_bertweet, batch_size=64, shuffle=True)\n"
   ]
  },
  {
   "cell_type": "code",
   "execution_count": 15,
   "metadata": {},
   "outputs": [],
   "source": [
    "# Create dataset #2\n",
    "dataset_bertweet_irony = SarcasmDataset(data_path='iSarcasmEval/train/train.En.csv',\n",
    "                                        tokenizer=AutoTokenizer.from_pretrained('pysentimiento/bertweet-irony'),\n",
    "                                        max_len=128)\n",
    "# Create data loader #2\n",
    "dataloader_bertweet_irony = torch.utils.data.DataLoader(dataset_bertweet_irony, batch_size=64, shuffle=True)"
   ]
  },
  {
   "cell_type": "code",
   "execution_count": 16,
   "metadata": {},
   "outputs": [],
   "source": [
    "# Create dataset #3\n",
    "dataset_bertweet_c = SarcasmDataset(data_path='iSarcasmEval/train/train.En.csv',\n",
    "                                            tokenizer=AutoTokenizer.from_pretrained('cardiffnlp/bertweet-base-irony'),    \n",
    "                                            max_len=128)\n",
    "# Create data loader #3\n",
    "dataloader_bertweet_c = torch.utils.data.DataLoader(dataset_bertweet_c, batch_size=64, shuffle=True)"
   ]
  },
  {
   "cell_type": "code",
   "execution_count": 17,
   "metadata": {},
   "outputs": [],
   "source": [
    "# Some sanity checks\n",
    "assert len(dataset_bertweet) == 3468\n",
    "assert len(dataset_bertweet_irony) == 3468\n",
    "assert len(dataset_bertweet_c) == 3468"
   ]
  },
  {
   "cell_type": "code",
   "execution_count": 23,
   "metadata": {},
   "outputs": [
    {
     "name": "stderr",
     "output_type": "stream",
     "text": [
      "Some weights of the model checkpoint at finiteautomata/bertweet-base-sentiment-analysis were not used when initializing RobertaModel: ['classifier.out_proj.weight', 'classifier.out_proj.bias', 'classifier.dense.bias', 'classifier.dense.weight']\n",
      "- This IS expected if you are initializing RobertaModel from the checkpoint of a model trained on another task or with another architecture (e.g. initializing a BertForSequenceClassification model from a BertForPreTraining model).\n",
      "- This IS NOT expected if you are initializing RobertaModel from the checkpoint of a model that you expect to be exactly identical (initializing a BertForSequenceClassification model from a BertForSequenceClassification model).\n",
      "Some weights of RobertaModel were not initialized from the model checkpoint at finiteautomata/bertweet-base-sentiment-analysis and are newly initialized: ['roberta.pooler.dense.weight', 'roberta.pooler.dense.bias']\n",
      "You should probably TRAIN this model on a down-stream task to be able to use it for predictions and inference.\n"
     ]
    }
   ],
   "source": [
    "# Initialize model 1 architecture\n",
    "model1 = PretrainedModelPlus(pretrained_model=AutoModel.from_pretrained('finiteautomata/bertweet-base-sentiment-analysis'), output_size=1, linear_layer_size=64)"
   ]
  },
  {
   "cell_type": "code",
   "execution_count": 24,
   "metadata": {},
   "outputs": [
    {
     "name": "stderr",
     "output_type": "stream",
     "text": [
      "Some weights of the model checkpoint at pysentimiento/bertweet-irony were not used when initializing RobertaModel: ['classifier.out_proj.weight', 'classifier.out_proj.bias', 'classifier.dense.bias', 'classifier.dense.weight']\n",
      "- This IS expected if you are initializing RobertaModel from the checkpoint of a model trained on another task or with another architecture (e.g. initializing a BertForSequenceClassification model from a BertForPreTraining model).\n",
      "- This IS NOT expected if you are initializing RobertaModel from the checkpoint of a model that you expect to be exactly identical (initializing a BertForSequenceClassification model from a BertForSequenceClassification model).\n",
      "Some weights of RobertaModel were not initialized from the model checkpoint at pysentimiento/bertweet-irony and are newly initialized: ['roberta.pooler.dense.weight', 'roberta.pooler.dense.bias']\n",
      "You should probably TRAIN this model on a down-stream task to be able to use it for predictions and inference.\n"
     ]
    }
   ],
   "source": [
    "# Initialize model 2 architecture\n",
    "model2 = PretrainedModelPlus(pretrained_model=AutoModel.from_pretrained('pysentimiento/bertweet-irony'), output_size=1, linear_layer_size=64)"
   ]
  },
  {
   "cell_type": "code",
   "execution_count": 25,
   "metadata": {},
   "outputs": [
    {
     "name": "stderr",
     "output_type": "stream",
     "text": [
      "Some weights of the model checkpoint at cardiffnlp/bertweet-base-irony were not used when initializing RobertaModel: ['classifier.out_proj.weight', 'classifier.out_proj.bias', 'classifier.dense.bias', 'classifier.dense.weight']\n",
      "- This IS expected if you are initializing RobertaModel from the checkpoint of a model trained on another task or with another architecture (e.g. initializing a BertForSequenceClassification model from a BertForPreTraining model).\n",
      "- This IS NOT expected if you are initializing RobertaModel from the checkpoint of a model that you expect to be exactly identical (initializing a BertForSequenceClassification model from a BertForSequenceClassification model).\n",
      "Some weights of RobertaModel were not initialized from the model checkpoint at cardiffnlp/bertweet-base-irony and are newly initialized: ['roberta.pooler.dense.weight', 'roberta.pooler.dense.bias']\n",
      "You should probably TRAIN this model on a down-stream task to be able to use it for predictions and inference.\n"
     ]
    }
   ],
   "source": [
    "# Initialize model 3 architecture\n",
    "model3 = PretrainedModelPlus(pretrained_model=AutoModel.from_pretrained('cardiffnlp/bertweet-base-irony'), output_size=1, linear_layer_size=64)"
   ]
  },
  {
   "cell_type": "code",
   "execution_count": 26,
   "metadata": {},
   "outputs": [
    {
     "data": {
      "application/vnd.jupyter.widget-view+json": {
       "model_id": "3fd9775ec8234041a40f1edc47a45518",
       "version_major": 2,
       "version_minor": 0
      },
      "text/plain": [
       "  0%|          | 0/55 [00:00<?, ?it/s]"
      ]
     },
     "metadata": {},
     "output_type": "display_data"
    },
    {
     "name": "stdout",
     "output_type": "stream",
     "text": [
      "Epoch: 1/2 | Loss: 0.4596 | Accuracy: 0.7413 | F1: 0.0588 | Precision: 0.3256 | Recall: 0.0323\n"
     ]
    },
    {
     "data": {
      "application/vnd.jupyter.widget-view+json": {
       "model_id": "905d7d9ab4e84e1081882574901a95f3",
       "version_major": 2,
       "version_minor": 0
      },
      "text/plain": [
       "  0%|          | 0/55 [00:00<?, ?it/s]"
      ]
     },
     "metadata": {},
     "output_type": "display_data"
    },
    {
     "name": "stdout",
     "output_type": "stream",
     "text": [
      "Epoch: 2/2 | Loss: 0.2242 | Accuracy: 0.7693 | F1: 0.2806 | Precision: 0.6367 | Recall: 0.1799\n"
     ]
    },
    {
     "data": {
      "application/vnd.jupyter.widget-view+json": {
       "model_id": "f39fbd9ca21848aeb1f0b24a21e2e84d",
       "version_major": 2,
       "version_minor": 0
      },
      "text/plain": [
       "  0%|          | 0/55 [00:00<?, ?it/s]"
      ]
     },
     "metadata": {},
     "output_type": "display_data"
    },
    {
     "name": "stdout",
     "output_type": "stream",
     "text": [
      "Epoch: 1/2 | Loss: 0.2449 | Accuracy: 0.8238 | F1: 0.5852 | Precision: 0.7112 | Recall: 0.4971\n"
     ]
    },
    {
     "data": {
      "application/vnd.jupyter.widget-view+json": {
       "model_id": "4412400253044f69b51f83bf7f2acfd3",
       "version_major": 2,
       "version_minor": 0
      },
      "text/plain": [
       "  0%|          | 0/55 [00:00<?, ?it/s]"
      ]
     },
     "metadata": {},
     "output_type": "display_data"
    },
    {
     "name": "stdout",
     "output_type": "stream",
     "text": [
      "Epoch: 2/2 | Loss: 0.5268 | Accuracy: 0.8417 | F1: 0.6409 | Precision: 0.7402 | Recall: 0.5652\n"
     ]
    }
   ],
   "source": [
    "'''\n",
    "OPTION 4A.\n",
    "We used this to fine tune model 1. Run this to train model 1.\n",
    "'''\n",
    "model1 = train(model1, dataloader_bertweet, epochs=2, learning_rate=1e-5) # larger learning rate at first\n",
    "model1 = train(model1, dataloader_bertweet, epochs=2, learning_rate=5e-6) # smaller learning rate later"
   ]
  },
  {
   "cell_type": "code",
   "execution_count": 29,
   "metadata": {},
   "outputs": [
    {
     "data": {
      "application/vnd.jupyter.widget-view+json": {
       "model_id": "afe760ac2292470b9d246d304877d46a",
       "version_major": 2,
       "version_minor": 0
      },
      "text/plain": [
       "  0%|          | 0/55 [00:00<?, ?it/s]"
      ]
     },
     "metadata": {},
     "output_type": "display_data"
    },
    {
     "name": "stdout",
     "output_type": "stream",
     "text": [
      "Epoch: 1/1 | Loss: 0.2624 | Accuracy: 0.8590 | F1: 0.6915 | Precision: 0.7632 | Recall: 0.6321\n"
     ]
    }
   ],
   "source": [
    "model1 = train(model1, dataloader_bertweet, epochs=1, learning_rate=5e-6)"
   ]
  },
  {
   "cell_type": "code",
   "execution_count": 32,
   "metadata": {},
   "outputs": [
    {
     "data": {
      "application/vnd.jupyter.widget-view+json": {
       "model_id": "8a67e50dfd87468b9cc36b55b4ee7789",
       "version_major": 2,
       "version_minor": 0
      },
      "text/plain": [
       "  0%|          | 0/55 [00:00<?, ?it/s]"
      ]
     },
     "metadata": {},
     "output_type": "display_data"
    },
    {
     "name": "stdout",
     "output_type": "stream",
     "text": [
      "Epoch: 1/3 | Loss: 0.5600 | Accuracy: 0.7523 | F1: 0.0359 | Precision: 0.6667 | Recall: 0.0185\n"
     ]
    },
    {
     "data": {
      "application/vnd.jupyter.widget-view+json": {
       "model_id": "236c166b28a049128b735cb462761f14",
       "version_major": 2,
       "version_minor": 0
      },
      "text/plain": [
       "  0%|          | 0/55 [00:00<?, ?it/s]"
      ]
     },
     "metadata": {},
     "output_type": "display_data"
    },
    {
     "name": "stdout",
     "output_type": "stream",
     "text": [
      "Epoch: 2/3 | Loss: 0.2728 | Accuracy: 0.8106 | F1: 0.5383 | Precision: 0.6888 | Recall: 0.4418\n"
     ]
    },
    {
     "data": {
      "application/vnd.jupyter.widget-view+json": {
       "model_id": "ad0582d5046e40df91b476f52cbd27e7",
       "version_major": 2,
       "version_minor": 0
      },
      "text/plain": [
       "  0%|          | 0/55 [00:00<?, ?it/s]"
      ]
     },
     "metadata": {},
     "output_type": "display_data"
    },
    {
     "name": "stdout",
     "output_type": "stream",
     "text": [
      "Epoch: 3/3 | Loss: 0.2639 | Accuracy: 0.8486 | F1: 0.6553 | Precision: 0.7607 | Recall: 0.5755\n"
     ]
    },
    {
     "data": {
      "application/vnd.jupyter.widget-view+json": {
       "model_id": "e3b55721bbd84c71953166cab954873f",
       "version_major": 2,
       "version_minor": 0
      },
      "text/plain": [
       "  0%|          | 0/55 [00:00<?, ?it/s]"
      ]
     },
     "metadata": {},
     "output_type": "display_data"
    },
    {
     "name": "stdout",
     "output_type": "stream",
     "text": [
      "Epoch: 1/2 | Loss: 0.1756 | Accuracy: 0.8821 | F1: 0.7373 | Precision: 0.8319 | Recall: 0.6621\n"
     ]
    },
    {
     "data": {
      "application/vnd.jupyter.widget-view+json": {
       "model_id": "3aa65374ac23499e88b1f24d4a230f1d",
       "version_major": 2,
       "version_minor": 0
      },
      "text/plain": [
       "  0%|          | 0/55 [00:00<?, ?it/s]"
      ]
     },
     "metadata": {},
     "output_type": "display_data"
    },
    {
     "name": "stdout",
     "output_type": "stream",
     "text": [
      "Epoch: 2/2 | Loss: 0.3310 | Accuracy: 0.8976 | F1: 0.7717 | Precision: 0.8721 | Recall: 0.6920\n"
     ]
    }
   ],
   "source": [
    "'''\n",
    "OPTION 4A.\n",
    "We used this to fine tune model 2. Run this to train model 2.\n",
    "'''\n",
    "model2 = train(model2, dataloader_bertweet_irony, epochs=3, learning_rate=1e-5) # larger learning rate at first\n",
    "model2 = train(model2, dataloader_bertweet_irony, epochs=2, learning_rate=5e-6) # smaller learning rate later"
   ]
  },
  {
   "cell_type": "code",
   "execution_count": 38,
   "metadata": {},
   "outputs": [
    {
     "data": {
      "application/vnd.jupyter.widget-view+json": {
       "model_id": "391b7d394fdc42a5926b8b6ec37653c0",
       "version_major": 2,
       "version_minor": 0
      },
      "text/plain": [
       "  0%|          | 0/55 [00:00<?, ?it/s]"
      ]
     },
     "metadata": {},
     "output_type": "display_data"
    },
    {
     "name": "stdout",
     "output_type": "stream",
     "text": [
      "Epoch: 1/3 | Loss: 0.4524 | Accuracy: 0.7506 | F1: 0.0159 | Precision: 0.5833 | Recall: 0.0081\n"
     ]
    },
    {
     "data": {
      "application/vnd.jupyter.widget-view+json": {
       "model_id": "e21fc734c94d4b4c928c85aaa33e17d8",
       "version_major": 2,
       "version_minor": 0
      },
      "text/plain": [
       "  0%|          | 0/55 [00:00<?, ?it/s]"
      ]
     },
     "metadata": {},
     "output_type": "display_data"
    },
    {
     "name": "stdout",
     "output_type": "stream",
     "text": [
      "Epoch: 2/3 | Loss: 0.5498 | Accuracy: 0.7982 | F1: 0.4745 | Precision: 0.6796 | Recall: 0.3645\n"
     ]
    },
    {
     "data": {
      "application/vnd.jupyter.widget-view+json": {
       "model_id": "9f5e86c09c9e4441b8debcab2a67359e",
       "version_major": 2,
       "version_minor": 0
      },
      "text/plain": [
       "  0%|          | 0/55 [00:00<?, ?it/s]"
      ]
     },
     "metadata": {},
     "output_type": "display_data"
    },
    {
     "name": "stdout",
     "output_type": "stream",
     "text": [
      "Epoch: 3/3 | Loss: 0.3274 | Accuracy: 0.8244 | F1: 0.5849 | Precision: 0.7150 | Recall: 0.4948\n"
     ]
    },
    {
     "data": {
      "application/vnd.jupyter.widget-view+json": {
       "model_id": "549a1e72c54b45b99db2293a2de62516",
       "version_major": 2,
       "version_minor": 0
      },
      "text/plain": [
       "  0%|          | 0/55 [00:00<?, ?it/s]"
      ]
     },
     "metadata": {},
     "output_type": "display_data"
    },
    {
     "name": "stdout",
     "output_type": "stream",
     "text": [
      "Epoch: 1/1 | Loss: 0.2012 | Accuracy: 0.8518 | F1: 0.6701 | Precision: 0.7554 | Recall: 0.6021\n"
     ]
    }
   ],
   "source": [
    "'''\n",
    "OPTION 4A.\n",
    "We used this to fine tune model 3. Run this to train model 3.\n",
    "'''\n",
    "model3 = train(model3, dataloader_bertweet_c, epochs=3, learning_rate=1e-5) # larger learning rate at first\n",
    "model3 = train(model3, dataloader_bertweet_c, epochs=1, learning_rate=5e-6) # smaller learning rate later"
   ]
  },
  {
   "cell_type": "code",
   "execution_count": 63,
   "metadata": {},
   "outputs": [
    {
     "name": "stderr",
     "output_type": "stream",
     "text": [
      "Some weights of the model checkpoint at finiteautomata/bertweet-base-sentiment-analysis were not used when initializing RobertaModel: ['classifier.dense.weight', 'classifier.dense.bias', 'classifier.out_proj.bias', 'classifier.out_proj.weight']\n",
      "- This IS expected if you are initializing RobertaModel from the checkpoint of a model trained on another task or with another architecture (e.g. initializing a BertForSequenceClassification model from a BertForPreTraining model).\n",
      "- This IS NOT expected if you are initializing RobertaModel from the checkpoint of a model that you expect to be exactly identical (initializing a BertForSequenceClassification model from a BertForSequenceClassification model).\n",
      "Some weights of RobertaModel were not initialized from the model checkpoint at finiteautomata/bertweet-base-sentiment-analysis and are newly initialized: ['roberta.pooler.dense.weight', 'roberta.pooler.dense.bias']\n",
      "You should probably TRAIN this model on a down-stream task to be able to use it for predictions and inference.\n"
     ]
    },
    {
     "name": "stdout",
     "output_type": "stream",
     "text": [
      "Loaded model1\n"
     ]
    }
   ],
   "source": [
    "'''\n",
    "OPTION 4B.\n",
    "We used this cell to load our previously fine tuned model 2. Run this if you have and wish to use a\n",
    "pretrained model 1.\n",
    "'''\n",
    "# load model1 if it exists\n",
    "if os.path.exists('model1.pt'):\n",
    "    model1.load_state_dict(torch.load('model1.pt'))\n",
    "    print('Loaded model1')"
   ]
  },
  {
   "cell_type": "code",
   "execution_count": 22,
   "metadata": {},
   "outputs": [
    {
     "name": "stdout",
     "output_type": "stream",
     "text": [
      "Loaded model2\n"
     ]
    }
   ],
   "source": [
    "'''\n",
    "OPTION 4B.\n",
    "We used this cell to load our previously fine tuned model 2. Run this if you have and wish to use\n",
    "a pretrained model 2.\n",
    "'''\n",
    "# load model2 if it exists\n",
    "if os.path.exists('model2.pt'):\n",
    "    model2.load_state_dict(torch.load('model2.pt'))\n",
    "    print('Loaded model2')"
   ]
  },
  {
   "cell_type": "code",
   "execution_count": 66,
   "metadata": {},
   "outputs": [
    {
     "name": "stderr",
     "output_type": "stream",
     "text": [
      "Some weights of the model checkpoint at cardiffnlp/bertweet-base-irony were not used when initializing RobertaModel: ['classifier.dense.weight', 'classifier.dense.bias', 'classifier.out_proj.bias', 'classifier.out_proj.weight']\n",
      "- This IS expected if you are initializing RobertaModel from the checkpoint of a model trained on another task or with another architecture (e.g. initializing a BertForSequenceClassification model from a BertForPreTraining model).\n",
      "- This IS NOT expected if you are initializing RobertaModel from the checkpoint of a model that you expect to be exactly identical (initializing a BertForSequenceClassification model from a BertForSequenceClassification model).\n",
      "Some weights of RobertaModel were not initialized from the model checkpoint at cardiffnlp/bertweet-base-irony and are newly initialized: ['roberta.pooler.dense.weight', 'roberta.pooler.dense.bias']\n",
      "You should probably TRAIN this model on a down-stream task to be able to use it for predictions and inference.\n"
     ]
    },
    {
     "name": "stdout",
     "output_type": "stream",
     "text": [
      "Loaded model3\n"
     ]
    }
   ],
   "source": [
    "'''\n",
    "OPTION 4B.\n",
    "We used this cell to load our fine tuned model 3. Run this if you have and wish to use\n",
    "a pretrained model 3.\n",
    "'''\n",
    "# load model3 if it exists\n",
    "if os.path.exists('model3.pt'):\n",
    "    model3.load_state_dict(torch.load('model3.pt'))\n",
    "    print('Loaded model3')"
   ]
  },
  {
   "cell_type": "markdown",
   "metadata": {},
   "source": [
    "### Individual Model Performance"
   ]
  },
  {
   "cell_type": "code",
   "execution_count": 30,
   "metadata": {},
   "outputs": [
    {
     "data": {
      "application/vnd.jupyter.widget-view+json": {
       "model_id": "4c099d268f5a41c08d1a9e8e2bd6e3ae",
       "version_major": 2,
       "version_minor": 0
      },
      "text/plain": [
       "  0%|          | 0/1400 [00:00<?, ?it/s]"
      ]
     },
     "metadata": {},
     "output_type": "display_data"
    }
   ],
   "source": [
    "generate_pred_from_test_file([model1],\n",
    "                             ['finiteautomata/bertweet-base-sentiment-analysis'],    \n",
    "                             'iSarcasmEval/test/task_A_En_test.csv', 'output-1.csv')"
   ]
  },
  {
   "cell_type": "code",
   "execution_count": 36,
   "metadata": {},
   "outputs": [
    {
     "data": {
      "application/vnd.jupyter.widget-view+json": {
       "model_id": "07d7bff13a5c4758a9e84e0553c039c3",
       "version_major": 2,
       "version_minor": 0
      },
      "text/plain": [
       "  0%|          | 0/1400 [00:00<?, ?it/s]"
      ]
     },
     "metadata": {},
     "output_type": "display_data"
    }
   ],
   "source": [
    "generate_pred_from_test_file([model2],\n",
    "                            ['pysentimiento/bertweet-irony'],\n",
    "                            'iSarcasmEval/test/task_A_En_test.csv', 'output-2.csv')"
   ]
  },
  {
   "cell_type": "code",
   "execution_count": 39,
   "metadata": {},
   "outputs": [
    {
     "data": {
      "application/vnd.jupyter.widget-view+json": {
       "model_id": "dbaf494599ad4244a9ed6c94b50b5656",
       "version_major": 2,
       "version_minor": 0
      },
      "text/plain": [
       "  0%|          | 0/1400 [00:00<?, ?it/s]"
      ]
     },
     "metadata": {},
     "output_type": "display_data"
    }
   ],
   "source": [
    "generate_pred_from_test_file([model3],\n",
    "                            ['cardiffnlp/bertweet-base-irony'],\n",
    "                            'iSarcasmEval/test/task_A_En_test.csv', 'output-3.csv')"
   ]
  },
  {
   "cell_type": "code",
   "execution_count": 31,
   "metadata": {},
   "outputs": [
    {
     "data": {
      "text/plain": [
       "0.475"
      ]
     },
     "execution_count": 31,
     "metadata": {},
     "output_type": "execute_result"
    }
   ],
   "source": [
    "evaluate_f1('iSarcasmEval/test/task_A_En_test.csv', 'output-1.csv')"
   ]
  },
  {
   "cell_type": "code",
   "execution_count": 37,
   "metadata": {},
   "outputs": [
    {
     "data": {
      "text/plain": [
       "0.46808510638297873"
      ]
     },
     "execution_count": 37,
     "metadata": {},
     "output_type": "execute_result"
    }
   ],
   "source": [
    "evaluate_f1('iSarcasmEval/test/task_A_En_test.csv', 'output-2.csv')"
   ]
  },
  {
   "cell_type": "code",
   "execution_count": 40,
   "metadata": {},
   "outputs": [
    {
     "data": {
      "text/plain": [
       "0.4924406047516198"
      ]
     },
     "execution_count": 40,
     "metadata": {},
     "output_type": "execute_result"
    }
   ],
   "source": [
    "evaluate_f1('iSarcasmEval/test/task_A_En_test.csv', 'output-3.csv')"
   ]
  },
  {
   "cell_type": "markdown",
   "metadata": {},
   "source": [
    "### Ensemble Prediction"
   ]
  },
  {
   "cell_type": "code",
   "execution_count": 42,
   "metadata": {},
   "outputs": [
    {
     "data": {
      "application/vnd.jupyter.widget-view+json": {
       "model_id": "d0198177cf774fa585a92406f3052382",
       "version_major": 2,
       "version_minor": 0
      },
      "text/plain": [
       "  0%|          | 0/1400 [00:00<?, ?it/s]"
      ]
     },
     "metadata": {},
     "output_type": "display_data"
    },
    {
     "data": {
      "application/vnd.jupyter.widget-view+json": {
       "model_id": "04fce7524bb049d09a04acc57b95c18b",
       "version_major": 2,
       "version_minor": 0
      },
      "text/plain": [
       "  0%|          | 0/1400 [00:00<?, ?it/s]"
      ]
     },
     "metadata": {},
     "output_type": "display_data"
    },
    {
     "data": {
      "application/vnd.jupyter.widget-view+json": {
       "model_id": "be546fea735a4e2e91c88efdd785b27b",
       "version_major": 2,
       "version_minor": 0
      },
      "text/plain": [
       "  0%|          | 0/1400 [00:00<?, ?it/s]"
      ]
     },
     "metadata": {},
     "output_type": "display_data"
    }
   ],
   "source": [
    "generate_pred_from_test_file([model1, model2, model3],\n",
    "                                ['finiteautomata/bertweet-base-sentiment-analysis', \n",
    "                                'pysentimiento/bertweet-irony',\n",
    "                                'cardiffnlp/bertweet-base-irony'],\n",
    "                                'iSarcasmEval/test/task_A_En_test.csv', 'output-123.csv')"
   ]
  },
  {
   "cell_type": "code",
   "execution_count": 43,
   "metadata": {},
   "outputs": [
    {
     "data": {
      "text/plain": [
       "0.5030674846625767"
      ]
     },
     "execution_count": 43,
     "metadata": {},
     "output_type": "execute_result"
    }
   ],
   "source": [
    "evaluate_f1('iSarcasmEval/test/task_A_En_test.csv', 'output-123.csv')"
   ]
  },
  {
   "cell_type": "markdown",
   "metadata": {},
   "source": [
    "## Save model"
   ]
  },
  {
   "cell_type": "code",
   "execution_count": 35,
   "metadata": {},
   "outputs": [],
   "source": [
    "torch.save(model1.state_dict(), 'model1.pt')"
   ]
  },
  {
   "cell_type": "code",
   "execution_count": 26,
   "metadata": {},
   "outputs": [],
   "source": [
    "torch.save(model2.state_dict(), 'model2.pt')"
   ]
  },
  {
   "cell_type": "code",
   "execution_count": 41,
   "metadata": {},
   "outputs": [],
   "source": [
    "torch.save(model3.state_dict(), 'model3.pt')"
   ]
  },
  {
   "cell_type": "code",
   "execution_count": null,
   "metadata": {},
   "outputs": [],
   "source": []
  }
 ],
 "metadata": {
  "colab": {
   "provenance": []
  },
  "kernelspec": {
   "display_name": "Python 3 (ipykernel)",
   "language": "python",
   "name": "python3"
  },
  "language_info": {
   "codemirror_mode": {
    "name": "ipython",
    "version": 3
   },
   "file_extension": ".py",
   "mimetype": "text/x-python",
   "name": "python",
   "nbconvert_exporter": "python",
   "pygments_lexer": "ipython3",
   "version": "3.10.8"
  }
 },
 "nbformat": 4,
 "nbformat_minor": 1
}
